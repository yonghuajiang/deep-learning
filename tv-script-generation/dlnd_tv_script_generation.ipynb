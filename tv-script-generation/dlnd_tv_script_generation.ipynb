{
 "cells": [
  {
   "cell_type": "markdown",
   "metadata": {},
   "source": [
    "# TV Script Generation\n",
    "In this project, you'll generate your own [Simpsons](https://en.wikipedia.org/wiki/The_Simpsons) TV scripts using RNNs.  You'll be using part of the [Simpsons dataset](https://www.kaggle.com/wcukierski/the-simpsons-by-the-data) of scripts from 27 seasons.  The Neural Network you'll build will generate a new TV script for a scene at [Moe's Tavern](https://simpsonswiki.com/wiki/Moe's_Tavern).\n",
    "## Get the Data\n",
    "The data is already provided for you.  You'll be using a subset of the original dataset.  It consists of only the scenes in Moe's Tavern.  This doesn't include other versions of the tavern, like \"Moe's Cavern\", \"Flaming Moe's\", \"Uncle Moe's Family Feed-Bag\", etc.."
   ]
  },
  {
   "cell_type": "code",
   "execution_count": 1,
   "metadata": {
    "collapsed": true
   },
   "outputs": [],
   "source": [
    "\"\"\"\n",
    "DON'T MODIFY ANYTHING IN THIS CELL\n",
    "\"\"\"\n",
    "import helper\n",
    "\n",
    "data_dir = './data/simpsons/moes_tavern_lines.txt'\n",
    "text = helper.load_data(data_dir)\n",
    "# Ignore notice, since we don't use it for analysing the data\n",
    "text = text[81:]"
   ]
  },
  {
   "cell_type": "markdown",
   "metadata": {},
   "source": [
    "## Explore the Data\n",
    "Play around with `view_sentence_range` to view different parts of the data."
   ]
  },
  {
   "cell_type": "code",
   "execution_count": 2,
   "metadata": {},
   "outputs": [
    {
     "name": "stdout",
     "output_type": "stream",
     "text": [
      "Dataset Stats\n",
      "Roughly the number of unique words: 11492\n",
      "Number of scenes: 262\n",
      "Average number of sentences in each scene: 15.248091603053435\n",
      "Number of lines: 4257\n",
      "Average number of words in each line: 11.50434578341555\n",
      "\n",
      "The sentences 0 to 10:\n",
      "Moe_Szyslak: (INTO PHONE) Moe's Tavern. Where the elite meet to drink.\n",
      "Bart_Simpson: Eh, yeah, hello, is Mike there? Last name, Rotch.\n",
      "Moe_Szyslak: (INTO PHONE) Hold on, I'll check. (TO BARFLIES) Mike Rotch. Mike Rotch. Hey, has anybody seen Mike Rotch, lately?\n",
      "Moe_Szyslak: (INTO PHONE) Listen you little puke. One of these days I'm gonna catch you, and I'm gonna carve my name on your back with an ice pick.\n",
      "Moe_Szyslak: What's the matter Homer? You're not your normal effervescent self.\n",
      "Homer_Simpson: I got my problems, Moe. Give me another one.\n",
      "Moe_Szyslak: Homer, hey, you should not drink to forget your problems.\n",
      "Barney_Gumble: Yeah, you should only drink to enhance your social skills.\n",
      "\n",
      "\n"
     ]
    }
   ],
   "source": [
    "view_sentence_range = (0, 10)\n",
    "\n",
    "\"\"\"\n",
    "DON'T MODIFY ANYTHING IN THIS CELL\n",
    "\"\"\"\n",
    "import numpy as np\n",
    "\n",
    "print('Dataset Stats')\n",
    "print('Roughly the number of unique words: {}'.format(len({word: None for word in text.split()})))\n",
    "scenes = text.split('\\n\\n')\n",
    "print('Number of scenes: {}'.format(len(scenes)))\n",
    "sentence_count_scene = [scene.count('\\n') for scene in scenes]\n",
    "print('Average number of sentences in each scene: {}'.format(np.average(sentence_count_scene)))\n",
    "\n",
    "sentences = [sentence for scene in scenes for sentence in scene.split('\\n')]\n",
    "print('Number of lines: {}'.format(len(sentences)))\n",
    "word_count_sentence = [len(sentence.split()) for sentence in sentences]\n",
    "print('Average number of words in each line: {}'.format(np.average(word_count_sentence)))\n",
    "\n",
    "print()\n",
    "print('The sentences {} to {}:'.format(*view_sentence_range))\n",
    "print('\\n'.join(text.split('\\n')[view_sentence_range[0]:view_sentence_range[1]]))"
   ]
  },
  {
   "cell_type": "markdown",
   "metadata": {},
   "source": [
    "## Implement Preprocessing Functions\n",
    "The first thing to do to any dataset is preprocessing.  Implement the following preprocessing functions below:\n",
    "- Lookup Table\n",
    "- Tokenize Punctuation\n",
    "\n",
    "### Lookup Table\n",
    "To create a word embedding, you first need to transform the words to ids.  In this function, create two dictionaries:\n",
    "- Dictionary to go from the words to an id, we'll call `vocab_to_int`\n",
    "- Dictionary to go from the id to word, we'll call `int_to_vocab`\n",
    "\n",
    "Return these dictionaries in the following tuple `(vocab_to_int, int_to_vocab)`"
   ]
  },
  {
   "cell_type": "code",
   "execution_count": 3,
   "metadata": {},
   "outputs": [
    {
     "name": "stdout",
     "output_type": "stream",
     "text": [
      "Tests Passed\n"
     ]
    }
   ],
   "source": [
    "import numpy as np\n",
    "import problem_unittests as tests\n",
    "\n",
    "def create_lookup_tables(text):\n",
    "    \"\"\"\n",
    "    Create lookup tables for vocabulary\n",
    "    :param text: The text of tv scripts split into words\n",
    "    :return: A tuple of dicts (vocab_to_int, int_to_vocab)\n",
    "    \"\"\"\n",
    "    # TODO: Implement Function\n",
    "    \n",
    "    word_set = set(text)\n",
    "    \n",
    "    int_to_vocab = {word_i : word for word_i, word in enumerate(word_set) }\n",
    "    vocab_to_int = {word: word_i for word_i, word in int_to_vocab.items()}    \n",
    "    \n",
    "    return vocab_to_int, int_to_vocab\n",
    "\n",
    "\n",
    "\"\"\"\n",
    "DON'T MODIFY ANYTHING IN THIS CELL THAT IS BELOW THIS LINE\n",
    "\"\"\"\n",
    "tests.test_create_lookup_tables(create_lookup_tables)"
   ]
  },
  {
   "cell_type": "markdown",
   "metadata": {},
   "source": [
    "### Tokenize Punctuation\n",
    "We'll be splitting the script into a word array using spaces as delimiters.  However, punctuations like periods and exclamation marks make it hard for the neural network to distinguish between the word \"bye\" and \"bye!\".\n",
    "\n",
    "Implement the function `token_lookup` to return a dict that will be used to tokenize symbols like \"!\" into \"||Exclamation_Mark||\".  Create a dictionary for the following symbols where the symbol is the key and value is the token:\n",
    "- Period ( . )\n",
    "- Comma ( , )\n",
    "- Quotation Mark ( \" )\n",
    "- Semicolon ( ; )\n",
    "- Exclamation mark ( ! )\n",
    "- Question mark ( ? )\n",
    "- Left Parentheses ( ( )\n",
    "- Right Parentheses ( ) )\n",
    "- Dash ( -- )\n",
    "- Return ( \\n )\n",
    "\n",
    "This dictionary will be used to token the symbols and add the delimiter (space) around it.  This separates the symbols as it's own word, making it easier for the neural network to predict on the next word. Make sure you don't use a token that could be confused as a word. Instead of using the token \"dash\", try using something like \"||dash||\"."
   ]
  },
  {
   "cell_type": "code",
   "execution_count": 4,
   "metadata": {},
   "outputs": [
    {
     "name": "stdout",
     "output_type": "stream",
     "text": [
      "Tests Passed\n"
     ]
    }
   ],
   "source": [
    "def token_lookup():\n",
    "    \"\"\"\n",
    "    Generate a dict to turn punctuation into a token.\n",
    "    :return: Tokenize dictionary where the key is the punctuation and the value is the token\n",
    "    \"\"\"\n",
    "    # TODO: Implement Function\n",
    "    return {\".\":\"||period||\",\n",
    "            \",\":\"||comma||\",\n",
    "            \"\\\"\":\"||quotation||\",\n",
    "           \";\":\"||semicolon||\",\n",
    "           \"!\":\"||exclamation||\",\n",
    "           \"?\":\"||question||\",\n",
    "           \"(\":\"||leftprth||\",\n",
    "           \")\":\"||rightprth||\",\n",
    "           \"--\":\"||dash||\",\n",
    "           \"\\n\":\"||return||\"}\n",
    "\n",
    "\"\"\"\n",
    "DON'T MODIFY ANYTHING IN THIS CELL THAT IS BELOW THIS LINE\n",
    "\"\"\"\n",
    "tests.test_tokenize(token_lookup)"
   ]
  },
  {
   "cell_type": "markdown",
   "metadata": {},
   "source": [
    "## Preprocess all the data and save it\n",
    "Running the code cell below will preprocess all the data and save it to file."
   ]
  },
  {
   "cell_type": "code",
   "execution_count": 5,
   "metadata": {
    "collapsed": true
   },
   "outputs": [],
   "source": [
    "\"\"\"\n",
    "DON'T MODIFY ANYTHING IN THIS CELL\n",
    "\"\"\"\n",
    "# Preprocess Training, Validation, and Testing Data\n",
    "helper.preprocess_and_save_data(data_dir, token_lookup, create_lookup_tables)"
   ]
  },
  {
   "cell_type": "markdown",
   "metadata": {},
   "source": [
    "# Check Point\n",
    "This is your first checkpoint. If you ever decide to come back to this notebook or have to restart the notebook, you can start from here. The preprocessed data has been saved to disk."
   ]
  },
  {
   "cell_type": "code",
   "execution_count": 6,
   "metadata": {
    "collapsed": true
   },
   "outputs": [],
   "source": [
    "\"\"\"\n",
    "DON'T MODIFY ANYTHING IN THIS CELL\n",
    "\"\"\"\n",
    "import helper\n",
    "import numpy as np\n",
    "import problem_unittests as tests\n",
    "\n",
    "int_text, vocab_to_int, int_to_vocab, token_dict = helper.load_preprocess()"
   ]
  },
  {
   "cell_type": "markdown",
   "metadata": {},
   "source": [
    "## Build the Neural Network\n",
    "You'll build the components necessary to build a RNN by implementing the following functions below:\n",
    "- get_inputs\n",
    "- get_init_cell\n",
    "- get_embed\n",
    "- build_rnn\n",
    "- build_nn\n",
    "- get_batches\n",
    "\n",
    "### Check the Version of TensorFlow and Access to GPU"
   ]
  },
  {
   "cell_type": "code",
   "execution_count": 7,
   "metadata": {},
   "outputs": [
    {
     "name": "stdout",
     "output_type": "stream",
     "text": [
      "TensorFlow Version: 1.1.0\n",
      "Default GPU Device: /gpu:0\n"
     ]
    }
   ],
   "source": [
    "\"\"\"\n",
    "DON'T MODIFY ANYTHING IN THIS CELL\n",
    "\"\"\"\n",
    "from distutils.version import LooseVersion\n",
    "import warnings\n",
    "import tensorflow as tf\n",
    "\n",
    "# Check TensorFlow Version\n",
    "assert LooseVersion(tf.__version__) >= LooseVersion('1.0'), 'Please use TensorFlow version 1.0 or newer'\n",
    "print('TensorFlow Version: {}'.format(tf.__version__))\n",
    "\n",
    "# Check for a GPU\n",
    "if not tf.test.gpu_device_name():\n",
    "    warnings.warn('No GPU found. Please use a GPU to train your neural network.')\n",
    "else:\n",
    "    print('Default GPU Device: {}'.format(tf.test.gpu_device_name()))"
   ]
  },
  {
   "cell_type": "markdown",
   "metadata": {},
   "source": [
    "### Input\n",
    "Implement the `get_inputs()` function to create TF Placeholders for the Neural Network.  It should create the following placeholders:\n",
    "- Input text placeholder named \"input\" using the [TF Placeholder](https://www.tensorflow.org/api_docs/python/tf/placeholder) `name` parameter.\n",
    "- Targets placeholder\n",
    "- Learning Rate placeholder\n",
    "\n",
    "Return the placeholders in the following tuple `(Input, Targets, LearningRate)`"
   ]
  },
  {
   "cell_type": "code",
   "execution_count": 8,
   "metadata": {},
   "outputs": [
    {
     "name": "stdout",
     "output_type": "stream",
     "text": [
      "Tests Passed\n"
     ]
    }
   ],
   "source": [
    "def get_inputs():\n",
    "    \"\"\"\n",
    "    Create TF Placeholders for input, targets, and learning rate.\n",
    "    :return: Tuple (input, targets, learning rate)\n",
    "    \"\"\"\n",
    "    # TODO: Implement Function\n",
    "    input = tf.placeholder(tf.int32,(None, None),name = \"input\")\n",
    "    targets = tf.placeholder(tf.int32,(None,None),name = \"targets\")\n",
    "    learning_rate = tf.placeholder(tf.float32, name = \"learning_rate\")\n",
    "            \n",
    "    return input, targets, learning_rate\n",
    "\n",
    "\n",
    "\"\"\"\n",
    "DON'T MODIFY ANYTHING IN THIS CELL THAT IS BELOW THIS LINE\n",
    "\"\"\"\n",
    "tests.test_get_inputs(get_inputs)"
   ]
  },
  {
   "cell_type": "markdown",
   "metadata": {},
   "source": [
    "### Build RNN Cell and Initialize\n",
    "Stack one or more [`BasicLSTMCells`](https://www.tensorflow.org/api_docs/python/tf/contrib/rnn/BasicLSTMCell) in a [`MultiRNNCell`](https://www.tensorflow.org/api_docs/python/tf/contrib/rnn/MultiRNNCell).\n",
    "- The Rnn size should be set using `rnn_size`\n",
    "- Initalize Cell State using the MultiRNNCell's [`zero_state()`](https://www.tensorflow.org/api_docs/python/tf/contrib/rnn/MultiRNNCell#zero_state) function\n",
    "    - Apply the name \"initial_state\" to the initial state using [`tf.identity()`](https://www.tensorflow.org/api_docs/python/tf/identity)\n",
    "\n",
    "Return the cell and initial state in the following tuple `(Cell, InitialState)`"
   ]
  },
  {
   "cell_type": "code",
   "execution_count": 9,
   "metadata": {},
   "outputs": [
    {
     "name": "stdout",
     "output_type": "stream",
     "text": [
      "Tests Passed\n"
     ]
    }
   ],
   "source": [
    "def get_init_cell(batch_size, rnn_size):\n",
    "    \"\"\"\n",
    "    Create an RNN Cell and initialize it.\n",
    "    :param batch_size: Size of batches\n",
    "    :param rnn_size: Size of RNNs\n",
    "    :return: Tuple (cell, initialize state)\n",
    "    \"\"\"\n",
    "    # TODO: Implement Function\n",
    "    keep_prob = 1\n",
    "    num_layers = 2\n",
    "\n",
    "    def make_cell(rnn_size, keep_prob):\n",
    "        lstm = tf.contrib.rnn.BasicLSTMCell(rnn_size, reuse = tf.get_variable_scope().reuse)\n",
    "        drop = tf.contrib.rnn.DropoutWrapper(lstm, output_keep_prob = keep_prob)\n",
    "        return drop\n",
    "    multi_cell = tf.contrib.rnn.MultiRNNCell([make_cell(rnn_size, keep_prob) for _ in range(num_layers)])\n",
    "    initialstate = multi_cell.zero_state(batch_size,tf.float32)\n",
    "    return multi_cell,tf.identity(initialstate,name =\"initial_state\")\n",
    "\n",
    "\n",
    "\"\"\"\n",
    "DON'T MODIFY ANYTHING IN THIS CELL THAT IS BELOW THIS LINE\n",
    "\"\"\"\n",
    "tests.test_get_init_cell(get_init_cell)"
   ]
  },
  {
   "cell_type": "markdown",
   "metadata": {},
   "source": [
    "### Word Embedding\n",
    "Apply embedding to `input_data` using TensorFlow.  Return the embedded sequence."
   ]
  },
  {
   "cell_type": "code",
   "execution_count": 10,
   "metadata": {},
   "outputs": [
    {
     "name": "stdout",
     "output_type": "stream",
     "text": [
      "Tests Passed\n"
     ]
    }
   ],
   "source": [
    "def get_embed(input_data, vocab_size, embed_dim):\n",
    "    \"\"\"\n",
    "    Create embedding for <input_data>.\n",
    "    :param input_data: TF placeholder for text input.\n",
    "    :param vocab_size: Number of words in vocabulary.\n",
    "    :param embed_dim: Number of embedding dimensions\n",
    "    :return: Embedded input.\n",
    "    \"\"\"\n",
    "    # TODO: Implement Function\n",
    "    embedding = tf.Variable(tf.random_uniform((vocab_size, embed_dim),-1,1))\n",
    "    embedding_input = tf.nn.embedding_lookup(embedding, input_data)\n",
    "    \n",
    "    return embedding_input\n",
    "\n",
    "\n",
    "\"\"\"\n",
    "DON'T MODIFY ANYTHING IN THIS CELL THAT IS BELOW THIS LINE\n",
    "\"\"\"\n",
    "tests.test_get_embed(get_embed)"
   ]
  },
  {
   "cell_type": "markdown",
   "metadata": {},
   "source": [
    "### Build RNN\n",
    "You created a RNN Cell in the `get_init_cell()` function.  Time to use the cell to create a RNN.\n",
    "- Build the RNN using the [`tf.nn.dynamic_rnn()`](https://www.tensorflow.org/api_docs/python/tf/nn/dynamic_rnn)\n",
    " - Apply the name \"final_state\" to the final state using [`tf.identity()`](https://www.tensorflow.org/api_docs/python/tf/identity)\n",
    "\n",
    "Return the outputs and final_state state in the following tuple `(Outputs, FinalState)` "
   ]
  },
  {
   "cell_type": "code",
   "execution_count": 11,
   "metadata": {},
   "outputs": [
    {
     "name": "stdout",
     "output_type": "stream",
     "text": [
      "Tests Passed\n"
     ]
    }
   ],
   "source": [
    "def build_rnn(cell, inputs):\n",
    "    \"\"\"\n",
    "    Create a RNN using a RNN Cell\n",
    "    :param cell: RNN Cell\n",
    "    :param inputs: Input text data\n",
    "    :return: Tuple (Outputs, Final State)\n",
    "    \"\"\"\n",
    "    # TODO: Implement Function\n",
    "    outputs, final_state = tf.nn.dynamic_rnn(cell, inputs,dtype = tf.float32)\n",
    "    return outputs, tf.identity(final_state, name = 'final_state')\n",
    "\n",
    "\n",
    "\"\"\"\n",
    "DON'T MODIFY ANYTHING IN THIS CELL THAT IS BELOW THIS LINE\n",
    "\"\"\"\n",
    "tests.test_build_rnn(build_rnn)"
   ]
  },
  {
   "cell_type": "markdown",
   "metadata": {},
   "source": [
    "### Build the Neural Network\n",
    "Apply the functions you implemented above to:\n",
    "- Apply embedding to `input_data` using your `get_embed(input_data, vocab_size, embed_dim)` function.\n",
    "- Build RNN using `cell` and your `build_rnn(cell, inputs)` function.\n",
    "- Apply a fully connected layer with a linear activation and `vocab_size` as the number of outputs.\n",
    "\n",
    "Return the logits and final state in the following tuple (Logits, FinalState) "
   ]
  },
  {
   "cell_type": "code",
   "execution_count": 12,
   "metadata": {},
   "outputs": [
    {
     "name": "stdout",
     "output_type": "stream",
     "text": [
      "Tests Passed\n"
     ]
    }
   ],
   "source": [
    "def build_nn(cell, rnn_size, input_data, vocab_size, embed_dim):\n",
    "    \"\"\"\n",
    "    Build part of the neural network\n",
    "    :param cell: RNN cell\n",
    "    :param rnn_size: Size of rnns\n",
    "    :param input_data: Input data\n",
    "    :param vocab_size: Vocabulary size\n",
    "    :param embed_dim: Number of embedding dimensions\n",
    "    :return: Tuple (Logits, FinalState)\n",
    "    \"\"\"\n",
    "    # TODO: Implement Function\n",
    "    input_emb = get_embed(input_data, vocab_size, embed_dim)\n",
    "    output, final_state = build_rnn(cell, input_emb)\n",
    "    w_init = tf.truncated_normal_initializer(stddev = 0.01)\n",
    "    b_init = tf.zeros_initializer()\n",
    "    final = tf.contrib.layers.fully_connected(output,vocab_size,\n",
    "                                              weights_initializer = w_init,\n",
    "                                              biases_initializer = b_init,\n",
    "                                              activation_fn=None)\n",
    "    \n",
    "    return final, final_state\n",
    "\n",
    "\n",
    "\"\"\"\n",
    "DON'T MODIFY ANYTHING IN THIS CELL THAT IS BELOW THIS LINE\n",
    "\"\"\"\n",
    "tests.test_build_nn(build_nn)"
   ]
  },
  {
   "cell_type": "markdown",
   "metadata": {},
   "source": [
    "### Batches\n",
    "Implement `get_batches` to create batches of input and targets using `int_text`.  The batches should be a Numpy array with the shape `(number of batches, 2, batch size, sequence length)`. Each batch contains two elements:\n",
    "- The first element is a single batch of **input** with the shape `[batch size, sequence length]`\n",
    "- The second element is a single batch of **targets** with the shape `[batch size, sequence length]`\n",
    "\n",
    "If you can't fill the last batch with enough data, drop the last batch.\n",
    "\n",
    "For exmple, `get_batches([1, 2, 3, 4, 5, 6, 7, 8, 9, 10, 11, 12, 13, 14, 15, 16, 17, 18, 19, 20], 3, 2)` would return a Numpy array of the following:\n",
    "```\n",
    "[\n",
    "  # First Batch\n",
    "  [\n",
    "    # Batch of Input\n",
    "    [[ 1  2], [ 7  8], [13 14]]\n",
    "    # Batch of targets\n",
    "    [[ 2  3], [ 8  9], [14 15]]\n",
    "  ]\n",
    "\n",
    "  # Second Batch\n",
    "  [\n",
    "    # Batch of Input\n",
    "    [[ 3  4], [ 9 10], [15 16]]\n",
    "    # Batch of targets\n",
    "    [[ 4  5], [10 11], [16 17]]\n",
    "  ]\n",
    "\n",
    "  # Third Batch\n",
    "  [\n",
    "    # Batch of Input\n",
    "    [[ 5  6], [11 12], [17 18]]\n",
    "    # Batch of targets\n",
    "    [[ 6  7], [12 13], [18  1]]\n",
    "  ]\n",
    "]\n",
    "```\n",
    "\n",
    "Notice that the last target value in the last batch is the first input value of the first batch. In this case, `1`. This is a common technique used when creating sequence batches, although it is rather unintuitive."
   ]
  },
  {
   "cell_type": "code",
   "execution_count": 13,
   "metadata": {},
   "outputs": [
    {
     "name": "stdout",
     "output_type": "stream",
     "text": [
      "Tests Passed\n"
     ]
    }
   ],
   "source": [
    "def get_batches(int_text, batch_size, seq_length):\n",
    "    \"\"\"\n",
    "    Return batches of input and target\n",
    "    :param int_text: Text with the words replaced by their ids\n",
    "    :param batch_size: The size of batch\n",
    "    :param seq_length: The length of sequence\n",
    "    :return: Batches as a Numpy array\n",
    "    \"\"\"\n",
    "    # TODO: Implement Function\n",
    "\n",
    "    max_batch = len(int_text)//(batch_size * seq_length)\n",
    "    full_batch = int_text[:max_batch * batch_size * seq_length]\n",
    "    target_full = full_batch[1:] + [full_batch[0]]\n",
    "    text_reshape = np.reshape(full_batch,(batch_size,-1))\n",
    "    target_reshape = np.reshape(target_full,(batch_size,-1))\n",
    "    \n",
    "    return np.asarray([[text_reshape[:,batch_ind * seq_length:(batch_ind+1) * seq_length],\n",
    "                       target_reshape[:,batch_ind * seq_length:(batch_ind+1) * seq_length]]\n",
    "                          for batch_ind in range(max_batch)])\n",
    "\n",
    "\n",
    "\"\"\"\n",
    "DON'T MODIFY ANYTHING IN THIS CELL THAT IS BELOW THIS LINE\n",
    "\"\"\"\n",
    "tests.test_get_batches(get_batches)"
   ]
  },
  {
   "cell_type": "markdown",
   "metadata": {},
   "source": [
    "## Neural Network Training\n",
    "### Hyperparameters\n",
    "Tune the following parameters:\n",
    "\n",
    "- Set `num_epochs` to the number of epochs.\n",
    "- Set `batch_size` to the batch size.\n",
    "- Set `rnn_size` to the size of the RNNs.\n",
    "- Set `embed_dim` to the size of the embedding.\n",
    "- Set `seq_length` to the length of sequence.\n",
    "- Set `learning_rate` to the learning rate.\n",
    "- Set `show_every_n_batches` to the number of batches the neural network should print progress."
   ]
  },
  {
   "cell_type": "code",
   "execution_count": 14,
   "metadata": {
    "collapsed": true
   },
   "outputs": [],
   "source": [
    "# Number of Epochs\n",
    "num_epochs = 500\n",
    "# Batch Size\n",
    "batch_size = 32\n",
    "# RNN Size\n",
    "rnn_size = 216\n",
    "# Embedding Dimension Size\n",
    "embed_dim = 512\n",
    "# Sequence Length\n",
    "seq_length = 256\n",
    "# Learning Rate\n",
    "learning_rate = 0.001\n",
    "# Show stats for every n number of batches\n",
    "show_every_n_batches = 20\n",
    "\n",
    "\"\"\"\n",
    "DON'T MODIFY ANYTHING IN THIS CELL THAT IS BELOW THIS LINE\n",
    "\"\"\"\n",
    "save_dir = './save'"
   ]
  },
  {
   "cell_type": "markdown",
   "metadata": {},
   "source": [
    "### Build the Graph\n",
    "Build the graph using the neural network you implemented."
   ]
  },
  {
   "cell_type": "code",
   "execution_count": 15,
   "metadata": {
    "collapsed": true
   },
   "outputs": [],
   "source": [
    "\"\"\"\n",
    "DON'T MODIFY ANYTHING IN THIS CELL\n",
    "\"\"\"\n",
    "from tensorflow.contrib import seq2seq\n",
    "\n",
    "train_graph = tf.Graph()\n",
    "with train_graph.as_default():\n",
    "    vocab_size = len(int_to_vocab)\n",
    "    input_text, targets, lr = get_inputs()\n",
    "    input_data_shape = tf.shape(input_text)\n",
    "    cell, initial_state = get_init_cell(input_data_shape[0], rnn_size)\n",
    "    logits, final_state = build_nn(cell, rnn_size, input_text, vocab_size, embed_dim)\n",
    "\n",
    "    # Probabilities for generating words\n",
    "    probs = tf.nn.softmax(logits, name='probs')\n",
    "\n",
    "    # Loss function\n",
    "    cost = seq2seq.sequence_loss(\n",
    "        logits,\n",
    "        targets,\n",
    "        tf.ones([input_data_shape[0], input_data_shape[1]]))\n",
    "\n",
    "    # Optimizer\n",
    "    optimizer = tf.train.AdamOptimizer(lr)\n",
    "\n",
    "    # Gradient Clipping\n",
    "    gradients = optimizer.compute_gradients(cost)\n",
    "    capped_gradients = [(tf.clip_by_value(grad, -1., 1.), var) for grad, var in gradients if grad is not None]\n",
    "    train_op = optimizer.apply_gradients(capped_gradients)"
   ]
  },
  {
   "cell_type": "markdown",
   "metadata": {},
   "source": [
    "## Train\n",
    "Train the neural network on the preprocessed data.  If you have a hard time getting a good loss, check the [forms](https://discussions.udacity.com/) to see if anyone is having the same problem."
   ]
  },
  {
   "cell_type": "code",
   "execution_count": 16,
   "metadata": {},
   "outputs": [
    {
     "name": "stdout",
     "output_type": "stream",
     "text": [
      "Epoch   0 Batch    0/8   train_loss = 8.821\n",
      "Epoch   2 Batch    4/8   train_loss = 5.959\n",
      "Epoch   5 Batch    0/8   train_loss = 5.966\n",
      "Epoch   7 Batch    4/8   train_loss = 5.866\n",
      "Epoch  10 Batch    0/8   train_loss = 5.936\n",
      "Epoch  12 Batch    4/8   train_loss = 5.862\n",
      "Epoch  15 Batch    0/8   train_loss = 5.933\n",
      "Epoch  17 Batch    4/8   train_loss = 5.860\n",
      "Epoch  20 Batch    0/8   train_loss = 5.932\n",
      "Epoch  22 Batch    4/8   train_loss = 5.859\n",
      "Epoch  25 Batch    0/8   train_loss = 5.931\n",
      "Epoch  27 Batch    4/8   train_loss = 5.859\n",
      "Epoch  30 Batch    0/8   train_loss = 5.930\n",
      "Epoch  32 Batch    4/8   train_loss = 5.858\n",
      "Epoch  35 Batch    0/8   train_loss = 5.930\n",
      "Epoch  37 Batch    4/8   train_loss = 5.856\n",
      "Epoch  40 Batch    0/8   train_loss = 5.926\n",
      "Epoch  42 Batch    4/8   train_loss = 5.848\n",
      "Epoch  45 Batch    0/8   train_loss = 5.915\n",
      "Epoch  47 Batch    4/8   train_loss = 5.836\n",
      "Epoch  50 Batch    0/8   train_loss = 5.903\n",
      "Epoch  52 Batch    4/8   train_loss = 5.824\n",
      "Epoch  55 Batch    0/8   train_loss = 5.891\n",
      "Epoch  57 Batch    4/8   train_loss = 5.812\n",
      "Epoch  60 Batch    0/8   train_loss = 5.875\n",
      "Epoch  62 Batch    4/8   train_loss = 5.786\n",
      "Epoch  65 Batch    0/8   train_loss = 5.841\n",
      "Epoch  67 Batch    4/8   train_loss = 5.749\n",
      "Epoch  70 Batch    0/8   train_loss = 5.800\n",
      "Epoch  72 Batch    4/8   train_loss = 5.700\n",
      "Epoch  75 Batch    0/8   train_loss = 5.737\n",
      "Epoch  77 Batch    4/8   train_loss = 5.627\n",
      "Epoch  80 Batch    0/8   train_loss = 5.651\n",
      "Epoch  82 Batch    4/8   train_loss = 5.502\n",
      "Epoch  85 Batch    0/8   train_loss = 5.464\n",
      "Epoch  87 Batch    4/8   train_loss = 5.317\n",
      "Epoch  90 Batch    0/8   train_loss = 5.311\n",
      "Epoch  92 Batch    4/8   train_loss = 5.173\n",
      "Epoch  95 Batch    0/8   train_loss = 5.162\n",
      "Epoch  97 Batch    4/8   train_loss = 5.027\n",
      "Epoch 100 Batch    0/8   train_loss = 5.017\n",
      "Epoch 102 Batch    4/8   train_loss = 4.884\n",
      "Epoch 105 Batch    0/8   train_loss = 4.897\n",
      "Epoch 107 Batch    4/8   train_loss = 4.773\n",
      "Epoch 110 Batch    0/8   train_loss = 4.793\n",
      "Epoch 112 Batch    4/8   train_loss = 4.674\n",
      "Epoch 115 Batch    0/8   train_loss = 4.701\n",
      "Epoch 117 Batch    4/8   train_loss = 4.579\n",
      "Epoch 120 Batch    0/8   train_loss = 4.605\n",
      "Epoch 122 Batch    4/8   train_loss = 4.493\n",
      "Epoch 125 Batch    0/8   train_loss = 4.520\n",
      "Epoch 127 Batch    4/8   train_loss = 4.411\n",
      "Epoch 130 Batch    0/8   train_loss = 4.440\n",
      "Epoch 132 Batch    4/8   train_loss = 4.337\n",
      "Epoch 135 Batch    0/8   train_loss = 4.361\n",
      "Epoch 137 Batch    4/8   train_loss = 4.268\n",
      "Epoch 140 Batch    0/8   train_loss = 4.299\n",
      "Epoch 142 Batch    4/8   train_loss = 4.199\n",
      "Epoch 145 Batch    0/8   train_loss = 4.259\n",
      "Epoch 147 Batch    4/8   train_loss = 4.149\n",
      "Epoch 150 Batch    0/8   train_loss = 4.151\n",
      "Epoch 152 Batch    4/8   train_loss = 4.065\n",
      "Epoch 155 Batch    0/8   train_loss = 4.085\n",
      "Epoch 157 Batch    4/8   train_loss = 4.009\n",
      "Epoch 160 Batch    0/8   train_loss = 4.024\n",
      "Epoch 162 Batch    4/8   train_loss = 3.945\n",
      "Epoch 165 Batch    0/8   train_loss = 3.967\n",
      "Epoch 167 Batch    4/8   train_loss = 3.918\n",
      "Epoch 170 Batch    0/8   train_loss = 3.929\n",
      "Epoch 172 Batch    4/8   train_loss = 3.832\n",
      "Epoch 175 Batch    0/8   train_loss = 3.841\n",
      "Epoch 177 Batch    4/8   train_loss = 3.783\n",
      "Epoch 180 Batch    0/8   train_loss = 3.817\n",
      "Epoch 182 Batch    4/8   train_loss = 3.727\n",
      "Epoch 185 Batch    0/8   train_loss = 3.734\n",
      "Epoch 187 Batch    4/8   train_loss = 3.665\n",
      "Epoch 190 Batch    0/8   train_loss = 3.668\n",
      "Epoch 192 Batch    4/8   train_loss = 3.598\n",
      "Epoch 195 Batch    0/8   train_loss = 3.604\n",
      "Epoch 197 Batch    4/8   train_loss = 3.556\n",
      "Epoch 200 Batch    0/8   train_loss = 3.577\n",
      "Epoch 202 Batch    4/8   train_loss = 3.515\n",
      "Epoch 205 Batch    0/8   train_loss = 3.491\n",
      "Epoch 207 Batch    4/8   train_loss = 3.425\n",
      "Epoch 210 Batch    0/8   train_loss = 3.429\n",
      "Epoch 212 Batch    4/8   train_loss = 3.395\n",
      "Epoch 215 Batch    0/8   train_loss = 3.410\n",
      "Epoch 217 Batch    4/8   train_loss = 3.329\n",
      "Epoch 220 Batch    0/8   train_loss = 3.320\n",
      "Epoch 222 Batch    4/8   train_loss = 3.273\n",
      "Epoch 225 Batch    0/8   train_loss = 3.296\n",
      "Epoch 227 Batch    4/8   train_loss = 3.230\n",
      "Epoch 230 Batch    0/8   train_loss = 3.213\n",
      "Epoch 232 Batch    4/8   train_loss = 3.171\n",
      "Epoch 235 Batch    0/8   train_loss = 3.184\n",
      "Epoch 237 Batch    4/8   train_loss = 3.172\n",
      "Epoch 240 Batch    0/8   train_loss = 3.164\n",
      "Epoch 242 Batch    4/8   train_loss = 3.126\n",
      "Epoch 245 Batch    0/8   train_loss = 3.099\n",
      "Epoch 247 Batch    4/8   train_loss = 3.025\n",
      "Epoch 250 Batch    0/8   train_loss = 3.007\n",
      "Epoch 252 Batch    4/8   train_loss = 2.967\n",
      "Epoch 255 Batch    0/8   train_loss = 2.967\n",
      "Epoch 257 Batch    4/8   train_loss = 2.945\n",
      "Epoch 260 Batch    0/8   train_loss = 2.930\n",
      "Epoch 262 Batch    4/8   train_loss = 2.873\n",
      "Epoch 265 Batch    0/8   train_loss = 2.877\n",
      "Epoch 267 Batch    4/8   train_loss = 2.818\n",
      "Epoch 270 Batch    0/8   train_loss = 2.797\n",
      "Epoch 272 Batch    4/8   train_loss = 2.774\n",
      "Epoch 275 Batch    0/8   train_loss = 2.796\n",
      "Epoch 277 Batch    4/8   train_loss = 2.747\n",
      "Epoch 280 Batch    0/8   train_loss = 2.707\n",
      "Epoch 282 Batch    4/8   train_loss = 2.679\n",
      "Epoch 285 Batch    0/8   train_loss = 2.671\n",
      "Epoch 287 Batch    4/8   train_loss = 2.654\n",
      "Epoch 290 Batch    0/8   train_loss = 2.661\n",
      "Epoch 292 Batch    4/8   train_loss = 2.623\n",
      "Epoch 295 Batch    0/8   train_loss = 2.552\n",
      "Epoch 297 Batch    4/8   train_loss = 2.524\n",
      "Epoch 300 Batch    0/8   train_loss = 2.504\n",
      "Epoch 302 Batch    4/8   train_loss = 2.477\n",
      "Epoch 305 Batch    0/8   train_loss = 2.457\n",
      "Epoch 307 Batch    4/8   train_loss = 2.476\n",
      "Epoch 310 Batch    0/8   train_loss = 2.509\n",
      "Epoch 312 Batch    4/8   train_loss = 2.445\n",
      "Epoch 315 Batch    0/8   train_loss = 2.371\n",
      "Epoch 317 Batch    4/8   train_loss = 2.354\n",
      "Epoch 320 Batch    0/8   train_loss = 2.372\n",
      "Epoch 322 Batch    4/8   train_loss = 2.414\n",
      "Epoch 325 Batch    0/8   train_loss = 2.334\n",
      "Epoch 327 Batch    4/8   train_loss = 2.278\n",
      "Epoch 330 Batch    0/8   train_loss = 2.225\n",
      "Epoch 332 Batch    4/8   train_loss = 2.215\n",
      "Epoch 335 Batch    0/8   train_loss = 2.196\n",
      "Epoch 337 Batch    4/8   train_loss = 2.220\n",
      "Epoch 340 Batch    0/8   train_loss = 2.184\n",
      "Epoch 342 Batch    4/8   train_loss = 2.143\n",
      "Epoch 345 Batch    0/8   train_loss = 2.116\n",
      "Epoch 347 Batch    4/8   train_loss = 2.107\n",
      "Epoch 350 Batch    0/8   train_loss = 2.084\n",
      "Epoch 352 Batch    4/8   train_loss = 2.100\n",
      "Epoch 355 Batch    0/8   train_loss = 2.086\n",
      "Epoch 357 Batch    4/8   train_loss = 2.075\n",
      "Epoch 360 Batch    0/8   train_loss = 1.991\n",
      "Epoch 362 Batch    4/8   train_loss = 1.997\n",
      "Epoch 365 Batch    0/8   train_loss = 1.944\n",
      "Epoch 367 Batch    4/8   train_loss = 1.928\n",
      "Epoch 370 Batch    0/8   train_loss = 1.891\n",
      "Epoch 372 Batch    4/8   train_loss = 1.904\n",
      "Epoch 375 Batch    0/8   train_loss = 1.898\n",
      "Epoch 377 Batch    4/8   train_loss = 1.886\n",
      "Epoch 380 Batch    0/8   train_loss = 1.830\n",
      "Epoch 382 Batch    4/8   train_loss = 1.848\n",
      "Epoch 385 Batch    0/8   train_loss = 1.831\n",
      "Epoch 387 Batch    4/8   train_loss = 1.816\n",
      "Epoch 390 Batch    0/8   train_loss = 1.764\n",
      "Epoch 392 Batch    4/8   train_loss = 1.751\n",
      "Epoch 395 Batch    0/8   train_loss = 1.727\n",
      "Epoch 397 Batch    4/8   train_loss = 1.741\n",
      "Epoch 400 Batch    0/8   train_loss = 1.717\n",
      "Epoch 402 Batch    4/8   train_loss = 1.722\n",
      "Epoch 405 Batch    0/8   train_loss = 1.699\n",
      "Epoch 407 Batch    4/8   train_loss = 1.720\n",
      "Epoch 410 Batch    0/8   train_loss = 1.638\n",
      "Epoch 412 Batch    4/8   train_loss = 1.626\n",
      "Epoch 415 Batch    0/8   train_loss = 1.582\n",
      "Epoch 417 Batch    4/8   train_loss = 1.638\n",
      "Epoch 420 Batch    0/8   train_loss = 1.622\n",
      "Epoch 422 Batch    4/8   train_loss = 1.613\n",
      "Epoch 425 Batch    0/8   train_loss = 1.539\n",
      "Epoch 427 Batch    4/8   train_loss = 1.536\n",
      "Epoch 430 Batch    0/8   train_loss = 1.480\n",
      "Epoch 432 Batch    4/8   train_loss = 1.493\n",
      "Epoch 435 Batch    0/8   train_loss = 1.472\n",
      "Epoch 437 Batch    4/8   train_loss = 1.505\n",
      "Epoch 440 Batch    0/8   train_loss = 1.476\n",
      "Epoch 442 Batch    4/8   train_loss = 1.484\n",
      "Epoch 445 Batch    0/8   train_loss = 1.396\n",
      "Epoch 447 Batch    4/8   train_loss = 1.396\n",
      "Epoch 450 Batch    0/8   train_loss = 1.354\n",
      "Epoch 452 Batch    4/8   train_loss = 1.378\n",
      "Epoch 455 Batch    0/8   train_loss = 1.379\n",
      "Epoch 457 Batch    4/8   train_loss = 1.399\n",
      "Epoch 460 Batch    0/8   train_loss = 1.324\n",
      "Epoch 462 Batch    4/8   train_loss = 1.332\n",
      "Epoch 465 Batch    0/8   train_loss = 1.267\n"
     ]
    },
    {
     "name": "stdout",
     "output_type": "stream",
     "text": [
      "Epoch 467 Batch    4/8   train_loss = 1.287\n",
      "Epoch 470 Batch    0/8   train_loss = 1.255\n",
      "Epoch 472 Batch    4/8   train_loss = 1.299\n",
      "Epoch 475 Batch    0/8   train_loss = 1.295\n",
      "Epoch 477 Batch    4/8   train_loss = 1.313\n",
      "Epoch 480 Batch    0/8   train_loss = 1.248\n",
      "Epoch 482 Batch    4/8   train_loss = 1.235\n",
      "Epoch 485 Batch    0/8   train_loss = 1.194\n",
      "Epoch 487 Batch    4/8   train_loss = 1.210\n",
      "Epoch 490 Batch    0/8   train_loss = 1.174\n",
      "Epoch 492 Batch    4/8   train_loss = 1.188\n",
      "Epoch 495 Batch    0/8   train_loss = 1.140\n",
      "Epoch 497 Batch    4/8   train_loss = 1.154\n",
      "Model Trained and Saved\n"
     ]
    }
   ],
   "source": [
    "\"\"\"\n",
    "DON'T MODIFY ANYTHING IN THIS CELL\n",
    "\"\"\"\n",
    "batches = get_batches(int_text, batch_size, seq_length)\n",
    "\n",
    "with tf.Session(graph=train_graph) as sess:\n",
    "    sess.run(tf.global_variables_initializer())\n",
    "\n",
    "    for epoch_i in range(num_epochs):\n",
    "        state = sess.run(initial_state, {input_text: batches[0][0]})\n",
    "\n",
    "        for batch_i, (x, y) in enumerate(batches):\n",
    "            feed = {\n",
    "                input_text: x,\n",
    "                targets: y,\n",
    "                initial_state: state,\n",
    "                lr: learning_rate}\n",
    "            train_loss, state, _ = sess.run([cost, final_state, train_op], feed)\n",
    "\n",
    "            # Show every <show_every_n_batches> batches\n",
    "            if (epoch_i * len(batches) + batch_i) % show_every_n_batches == 0:\n",
    "                print('Epoch {:>3} Batch {:>4}/{}   train_loss = {:.3f}'.format(\n",
    "                    epoch_i,\n",
    "                    batch_i,\n",
    "                    len(batches),\n",
    "                    train_loss))\n",
    "\n",
    "    # Save Model\n",
    "    saver = tf.train.Saver()\n",
    "    saver.save(sess, save_dir)\n",
    "    print('Model Trained and Saved')"
   ]
  },
  {
   "cell_type": "markdown",
   "metadata": {},
   "source": [
    "## Save Parameters\n",
    "Save `seq_length` and `save_dir` for generating a new TV script."
   ]
  },
  {
   "cell_type": "code",
   "execution_count": 22,
   "metadata": {
    "collapsed": true
   },
   "outputs": [],
   "source": [
    "\"\"\"\n",
    "DON'T MODIFY ANYTHING IN THIS CELL\n",
    "\"\"\"\n",
    "# Save parameters for checkpoint\n",
    "helper.save_params((seq_length, save_dir))"
   ]
  },
  {
   "cell_type": "markdown",
   "metadata": {},
   "source": [
    "# Checkpoint"
   ]
  },
  {
   "cell_type": "code",
   "execution_count": 23,
   "metadata": {
    "collapsed": true
   },
   "outputs": [],
   "source": [
    "\"\"\"\n",
    "DON'T MODIFY ANYTHING IN THIS CELL\n",
    "\"\"\"\n",
    "import tensorflow as tf\n",
    "import numpy as np\n",
    "import helper\n",
    "import problem_unittests as tests\n",
    "\n",
    "_, vocab_to_int, int_to_vocab, token_dict = helper.load_preprocess()\n",
    "seq_length, load_dir = helper.load_params()"
   ]
  },
  {
   "cell_type": "markdown",
   "metadata": {},
   "source": [
    "## Implement Generate Functions\n",
    "### Get Tensors\n",
    "Get tensors from `loaded_graph` using the function [`get_tensor_by_name()`](https://www.tensorflow.org/api_docs/python/tf/Graph#get_tensor_by_name).  Get the tensors using the following names:\n",
    "- \"input:0\"\n",
    "- \"initial_state:0\"\n",
    "- \"final_state:0\"\n",
    "- \"probs:0\"\n",
    "\n",
    "Return the tensors in the following tuple `(InputTensor, InitialStateTensor, FinalStateTensor, ProbsTensor)` "
   ]
  },
  {
   "cell_type": "code",
   "execution_count": 24,
   "metadata": {},
   "outputs": [
    {
     "name": "stdout",
     "output_type": "stream",
     "text": [
      "Tests Passed\n"
     ]
    }
   ],
   "source": [
    "def get_tensors(loaded_graph):\n",
    "    \"\"\"\n",
    "    Get input, initial state, final state, and probabilities tensor from <loaded_graph>\n",
    "    :param loaded_graph: TensorFlow graph loaded from file\n",
    "    :return: Tuple (InputTensor, InitialStateTensor, FinalStateTensor, ProbsTensor)\n",
    "    \"\"\"\n",
    "    # TODO: Implement Function\n",
    "    InputTensor = loaded_graph.get_tensor_by_name(\"input:0\")\n",
    "    InitialStateTensor = loaded_graph.get_tensor_by_name(\"initial_state:0\")\n",
    "    FinalStateTensor = loaded_graph.get_tensor_by_name(\"final_state:0\")\n",
    "    ProbsTensor = loaded_graph.get_tensor_by_name(\"probs:0\")\n",
    "    \n",
    "    return InputTensor, InitialStateTensor, FinalStateTensor, ProbsTensor\n",
    "\n",
    "\n",
    "\"\"\"\n",
    "DON'T MODIFY ANYTHING IN THIS CELL THAT IS BELOW THIS LINE\n",
    "\"\"\"\n",
    "tests.test_get_tensors(get_tensors)"
   ]
  },
  {
   "cell_type": "markdown",
   "metadata": {},
   "source": [
    "### Choose Word\n",
    "Implement the `pick_word()` function to select the next word using `probabilities`."
   ]
  },
  {
   "cell_type": "code",
   "execution_count": 25,
   "metadata": {},
   "outputs": [
    {
     "name": "stdout",
     "output_type": "stream",
     "text": [
      "Tests Passed\n"
     ]
    }
   ],
   "source": [
    "def pick_word(probabilities, int_to_vocab):\n",
    "    \"\"\"\n",
    "    Pick the next word in the generated text\n",
    "    :param probabilities: Probabilites of the next word\n",
    "    :param int_to_vocab: Dictionary of word ids as the keys and words as the values\n",
    "    :return: String of the predicted word\n",
    "    \"\"\"\n",
    "    # TODO: Implement Function\n",
    "    max_prob_indx = np.argmax(probabilities)\n",
    "    return int_to_vocab[max_prob_indx]\n",
    "\n",
    "\n",
    "\"\"\"\n",
    "DON'T MODIFY ANYTHING IN THIS CELL THAT IS BELOW THIS LINE\n",
    "\"\"\"\n",
    "tests.test_pick_word(pick_word)"
   ]
  },
  {
   "cell_type": "markdown",
   "metadata": {},
   "source": [
    "## Generate TV Script\n",
    "This will generate the TV script for you.  Set `gen_length` to the length of TV script you want to generate."
   ]
  },
  {
   "cell_type": "code",
   "execution_count": 26,
   "metadata": {},
   "outputs": [
    {
     "name": "stdout",
     "output_type": "stream",
     "text": [
      "INFO:tensorflow:Restoring parameters from ./save\n",
      "moe_szyslak:(into phone) moe's tavern. where the elite meet to drink.\n",
      "homer_simpson: eh, yeah, that's me stupid!(sobs)\n",
      "homer_simpson: i'm the worst thing now.\n",
      "carl_carlson:(sings) one!\n",
      "lisa_simpson: yeah, that's me.(sobs) it's all this is a beer and ever seen from another old while. and.\n",
      "homer_simpson: yeah!\n",
      "moe_szyslak: yeah, the little miss tv, i'll have to play.(laughs)\n",
      "moe_szyslak:(sings) oh yeah.\n",
      "moe_szyslak:(sings) really?(to homer) hey, what?(laughs)(sings) canyonero.\n",
      "moe_szyslak:(to homer) hey, i can't believe i could eat the bar at the money at legoland. i can't believe i hate this, but that knows my life!(sobs)\n",
      "\n",
      "\n",
      "homer_simpson:(sobs)\n",
      "homer_simpson: you've been this bar to see her.\n",
      "homer_simpson: shut up.\n",
      "moe_szyslak: hey, uh, whoa, i'm not the money. you know, i'm gonna be so\n"
     ]
    }
   ],
   "source": [
    "gen_length = 200\n",
    "# homer_simpson, moe_szyslak, or Barney_Gumble\n",
    "prime_word = 'moe_szyslak'\n",
    "\n",
    "\"\"\"\n",
    "DON'T MODIFY ANYTHING IN THIS CELL THAT IS BELOW THIS LINE\n",
    "\"\"\"\n",
    "loaded_graph = tf.Graph()\n",
    "with tf.Session(graph=loaded_graph) as sess:\n",
    "    # Load saved model\n",
    "    loader = tf.train.import_meta_graph(load_dir + '.meta')\n",
    "    loader.restore(sess, load_dir)\n",
    "\n",
    "    # Get Tensors from loaded model\n",
    "    input_text, initial_state, final_state, probs = get_tensors(loaded_graph)\n",
    "\n",
    "    # Sentences generation setup\n",
    "    gen_sentences = [prime_word + ':']\n",
    "    prev_state = sess.run(initial_state, {input_text: np.array([[1]])})\n",
    "\n",
    "    # Generate sentences\n",
    "    for n in range(gen_length):\n",
    "        # Dynamic Input\n",
    "        dyn_input = [[vocab_to_int[word] for word in gen_sentences[-seq_length:]]]\n",
    "        dyn_seq_length = len(dyn_input[0])\n",
    "\n",
    "        # Get Prediction\n",
    "        probabilities, prev_state = sess.run(\n",
    "            [probs, final_state],\n",
    "            {input_text: dyn_input, initial_state: prev_state})\n",
    "        \n",
    "        pred_word = pick_word(probabilities[dyn_seq_length-1], int_to_vocab)\n",
    "\n",
    "        gen_sentences.append(pred_word)\n",
    "    \n",
    "    # Remove tokens\n",
    "    tv_script = ' '.join(gen_sentences)\n",
    "    for key, token in token_dict.items():\n",
    "        ending = ' ' if key in ['\\n', '(', '\"'] else ''\n",
    "        tv_script = tv_script.replace(' ' + token.lower(), key)\n",
    "    tv_script = tv_script.replace('\\n ', '\\n')\n",
    "    tv_script = tv_script.replace('( ', '(')\n",
    "        \n",
    "    print(tv_script)"
   ]
  },
  {
   "cell_type": "markdown",
   "metadata": {},
   "source": [
    "# The TV Script is Nonsensical\n",
    "It's ok if the TV script doesn't make any sense.  We trained on less than a megabyte of text.  In order to get good results, you'll have to use a smaller vocabulary or get more data.  Luckly there's more data!  As we mentioned in the begging of this project, this is a subset of [another dataset](https://www.kaggle.com/wcukierski/the-simpsons-by-the-data).  We didn't have you train on all the data, because that would take too long.  However, you are free to train your neural network on all the data.  After you complete the project, of course.\n",
    "# Submitting This Project\n",
    "When submitting this project, make sure to run all the cells before saving the notebook. Save the notebook file as \"dlnd_tv_script_generation.ipynb\" and save it as a HTML file under \"File\" -> \"Download as\". Include the \"helper.py\" and \"problem_unittests.py\" files in your submission."
   ]
  }
 ],
 "metadata": {
  "kernelspec": {
   "display_name": "Python 3",
   "language": "python",
   "name": "python3"
  },
  "language_info": {
   "codemirror_mode": {
    "name": "ipython",
    "version": 3
   },
   "file_extension": ".py",
   "mimetype": "text/x-python",
   "name": "python",
   "nbconvert_exporter": "python",
   "pygments_lexer": "ipython3",
   "version": "3.5.3"
  },
  "widgets": {
   "state": {},
   "version": "1.1.2"
  }
 },
 "nbformat": 4,
 "nbformat_minor": 1
}
